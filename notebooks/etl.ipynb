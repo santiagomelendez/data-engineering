{
 "cells": [
  {
   "cell_type": "code",
   "execution_count": null,
   "metadata": {},
   "outputs": [],
   "source": [
    "import sys;sys.path.append('..')\n",
    "from pendulum import datetime\n",
    "from config.config import get_config\n",
    "from etl.extraction import extract_data\n",
    "from etl.transformation import transform_data\n",
    "from etl.validations import validate_duplicates\n",
    "from etl.upload import upload_data\n",
    "\n",
    "config = get_config()\n",
    "btc_conf = config['BTC']\n",
    "ticker = btc_conf['ticker']\n",
    "threshold = btc_conf['price_threshold']\n",
    "output_path = f'../outputs/{ticker}_raw.csv'"
   ]
  },
  {
   "cell_type": "code",
   "execution_count": null,
   "metadata": {},
   "outputs": [],
   "source": [
    "kwargs = {\n",
    "    'data_interval_start':datetime(2022,2,1),\n",
    "    'data_interval_end':datetime(2022,2,2),\n",
    "    'execution_date': datetime(2024,2,13),\n",
    "}\n",
    "extract_data(ticker=ticker.upper(), filepath=output_path, \n",
    "                 from_date=kwargs['data_interval_start'], \n",
    "                 to_date=kwargs['data_interval_end'],\n",
    "                 extraction_date=kwargs['execution_date'])"
   ]
  },
  {
   "cell_type": "code",
   "execution_count": null,
   "metadata": {},
   "outputs": [],
   "source": [
    "input_file = f'../outputs/btcusdt_raw.csv'\n",
    "outut_file = f'../outputs/{ticker}_transformed.csv'\n",
    "print('TRANSFORM TASK: Processing raw data')\n",
    "transform_data(input_file=input_file, symbol=ticker, outut_file=outut_file)\n",
    "print('TRANSFORM TASK: Transformation was successful')"
   ]
  },
  {
   "cell_type": "code",
   "execution_count": null,
   "metadata": {},
   "outputs": [],
   "source": [
    "input_file = f'../outputs/{ticker}_transformed.csv'\n",
    "output_file = f'../outputs/{ticker}_upload.csv'\n",
    "validate_duplicates(input_file=input_file, output_file=output_file)"
   ]
  },
  {
   "cell_type": "code",
   "execution_count": 2,
   "metadata": {},
   "outputs": [
    {
     "name": "stdout",
     "output_type": "stream",
     "text": [
      "UPLOAD: Formatting new data before upload\n",
      "UPLOAD: Will be upload 0 new registers\n",
      "UPLOAD: Upload successful: 0 new registers\n",
      "UPLOAD: Formatting existing data before upload\n",
      "UPLOAD: Will be updated 24 registers\n",
      "UPLOAD: Update successful: 24 existing registers\n",
      "LOAD TASK: Loading was successful\n"
     ]
    }
   ],
   "source": [
    "input_file = f'../outputs/{ticker}_upload.csv'\n",
    "upload_data(input_file=input_file)\n",
    "print('LOAD TASK: Loading was successful')"
   ]
  }
 ],
 "metadata": {
  "kernelspec": {
   "display_name": ".venv",
   "language": "python",
   "name": "python3"
  },
  "language_info": {
   "codemirror_mode": {
    "name": "ipython",
    "version": 3
   },
   "file_extension": ".py",
   "mimetype": "text/x-python",
   "name": "python",
   "nbconvert_exporter": "python",
   "pygments_lexer": "ipython3",
   "version": "3.9.6"
  },
  "orig_nbformat": 4
 },
 "nbformat": 4,
 "nbformat_minor": 2
}
