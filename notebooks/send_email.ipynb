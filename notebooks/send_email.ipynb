{
 "cells": [
  {
   "cell_type": "code",
   "execution_count": 2,
   "metadata": {},
   "outputs": [],
   "source": [
    "import sys; sys.path.append('..')\n",
    "from utils.notifications import send_email_from_gmail"
   ]
  },
  {
   "cell_type": "code",
   "execution_count": 4,
   "metadata": {},
   "outputs": [
    {
     "name": "stdout",
     "output_type": "stream",
     "text": [
      "THIS IS THE MESSAGE TO SEND: Content-Type: text/plain; charset=\"utf-8\"\n",
      "Content-Transfer-Encoding: 7bit\n",
      "MIME-Version: 1.0\n",
      "To: data00engineering+r@gmail.com\n",
      "Subject: Test email 3\n",
      "\n",
      "This is a test\n",
      "\n",
      "sent message to {'id': '18d90964290aeeb5', 'threadId': '18d90964290aeeb5', 'labelIds': ['UNREAD', 'SENT', 'INBOX']} Message Id: 18d90964290aeeb5\n"
     ]
    }
   ],
   "source": [
    "send_email_from_gmail(body='This is a test', subject='Test email 3')"
   ]
  }
 ],
 "metadata": {
  "kernelspec": {
   "display_name": ".venv",
   "language": "python",
   "name": "python3"
  },
  "language_info": {
   "codemirror_mode": {
    "name": "ipython",
    "version": 3
   },
   "file_extension": ".py",
   "mimetype": "text/x-python",
   "name": "python",
   "nbconvert_exporter": "python",
   "pygments_lexer": "ipython3",
   "version": "3.9.6"
  },
  "orig_nbformat": 4
 },
 "nbformat": 4,
 "nbformat_minor": 2
}
