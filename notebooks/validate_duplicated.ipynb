{
 "cells": [
  {
   "cell_type": "code",
   "execution_count": 1,
   "metadata": {},
   "outputs": [],
   "source": [
    "def execute_query(db_connection, query_statement):\n",
    "    try:\n",
    "        cursor = db_connection.cursor()\n",
    "        cursor.execute(query_statement)\n",
    "        cursor.close()\n",
    "        # commit the changes\n",
    "        db_connection.commit()\n",
    "    except (Exception, psycopg2.DatabaseError) as error:\n",
    "        print(f'Error executing query: \"{query_statement}\": {error}')"
   ]
  },
  {
   "cell_type": "code",
   "execution_count": 2,
   "metadata": {},
   "outputs": [],
   "source": [
    "import os\n",
    "import psycopg2\n",
    "\n",
    "hostname = os.environ.get('DB_HOSTNAME')\n",
    "database = os.environ.get('DB_DATABASE')\n",
    "username = os.environ.get('DB_USERNAME')\n",
    "pwd = os.environ.get('DB_PWD')\n",
    "port = int(os.environ.get('DB_PORT'))\n",
    "\n",
    "\n",
    "conn = psycopg2.connect(host=hostname, dbname=database, user=username, password=pwd, port=port)\n",
    "\n"
   ]
  },
  {
   "cell_type": "code",
   "execution_count": 6,
   "metadata": {},
   "outputs": [],
   "source": [
    "create_table_query = '''CREATE TABLE IF NOT EXISTS klines (\n",
    "    id INTEGER PRIMARY KEY GENERATED ALWAYS AS IDENTITY,\n",
    "    created_at TIMESTAMP DEFAULT NOW(),\n",
    "    updated_at TIMESTAMP DEFAULT NOW(),\n",
    "    ticker VARCHAR(10),\n",
    "    open_time TIMESTAMP,\n",
    "    open_price FLOAT,\n",
    "    high_price FLOAT,\n",
    "    low_price FLOAT,\n",
    "    close_price FLOAT,\n",
    "    volume FLOAT,\n",
    "    close_time TIMESTAMP,\n",
    "    quote_asset_volume FLOAT,\n",
    "    number_of_trades INT,\n",
    "    symbol VARCHAR(10)\n",
    ");'''\n",
    "\n",
    "execute_query(conn, create_table_query)"
   ]
  },
  {
   "cell_type": "code",
   "execution_count": 8,
   "metadata": {},
   "outputs": [
    {
     "name": "stdout",
     "output_type": "stream",
     "text": [
      "<class 'pandas.core.frame.DataFrame'>\n",
      "RangeIndex: 24 entries, 0 to 23\n",
      "Data columns (total 10 columns):\n",
      " #   Column              Non-Null Count  Dtype  \n",
      "---  ------              --------------  -----  \n",
      " 0   open_time           24 non-null     object \n",
      " 1   open_price          24 non-null     float64\n",
      " 2   high_price          24 non-null     float64\n",
      " 3   low_price           24 non-null     float64\n",
      " 4   close_price         24 non-null     float64\n",
      " 5   volume              24 non-null     float64\n",
      " 6   close_time          24 non-null     object \n",
      " 7   quote_asset_volume  24 non-null     float64\n",
      " 8   number_of_trades    24 non-null     int64  \n",
      " 9   symbol              24 non-null     object \n",
      "dtypes: float64(6), int64(1), object(3)\n",
      "memory usage: 2.0+ KB\n"
     ]
    }
   ],
   "source": [
    "import pandas as pd\n",
    "\n",
    "symbol = 'BTCUSDT'\n",
    "input_path = f'../outputs/{symbol}_transformed.csv'\n",
    "\n",
    "df = pd.read_csv(input_path)\n",
    "df.head()\n",
    "df.info()"
   ]
  },
  {
   "cell_type": "code",
   "execution_count": 14,
   "metadata": {},
   "outputs": [
    {
     "data": {
      "text/plain": [
       "0     2024-01-17 04:00:00_BTCUSDT_2024-01-17 04:59:5...\n",
       "1     2024-01-17 05:00:00_BTCUSDT_2024-01-17 05:59:5...\n",
       "2     2024-01-17 06:00:00_BTCUSDT_2024-01-17 06:59:5...\n",
       "3     2024-01-17 07:00:00_BTCUSDT_2024-01-17 07:59:5...\n",
       "4     2024-01-17 08:00:00_BTCUSDT_2024-01-17 08:59:5...\n",
       "5     2024-01-17 09:00:00_BTCUSDT_2024-01-17 09:59:5...\n",
       "6     2024-01-17 10:00:00_BTCUSDT_2024-01-17 10:59:5...\n",
       "7     2024-01-17 11:00:00_BTCUSDT_2024-01-17 11:59:5...\n",
       "8     2024-01-17 12:00:00_BTCUSDT_2024-01-17 12:59:5...\n",
       "9     2024-01-17 13:00:00_BTCUSDT_2024-01-17 13:59:5...\n",
       "10    2024-01-17 14:00:00_BTCUSDT_2024-01-17 14:59:5...\n",
       "11    2024-01-17 15:00:00_BTCUSDT_2024-01-17 15:59:5...\n",
       "12    2024-01-17 16:00:00_BTCUSDT_2024-01-17 16:59:5...\n",
       "13    2024-01-17 17:00:00_BTCUSDT_2024-01-17 17:59:5...\n",
       "14    2024-01-17 18:00:00_BTCUSDT_2024-01-17 18:59:5...\n",
       "15    2024-01-17 19:00:00_BTCUSDT_2024-01-17 19:59:5...\n",
       "16    2024-01-17 20:00:00_BTCUSDT_2024-01-17 20:59:5...\n",
       "17    2024-01-17 21:00:00_BTCUSDT_2024-01-17 21:59:5...\n",
       "18    2024-01-17 22:00:00_BTCUSDT_2024-01-17 22:59:5...\n",
       "19    2024-01-17 23:00:00_BTCUSDT_2024-01-17 23:59:5...\n",
       "20    2024-01-18 00:00:00_BTCUSDT_2024-01-18 00:59:5...\n",
       "21    2024-01-18 01:00:00_BTCUSDT_2024-01-18 01:59:5...\n",
       "22    2024-01-18 02:00:00_BTCUSDT_2024-01-18 02:59:5...\n",
       "23    2024-01-18 03:00:00_BTCUSDT_2024-01-18 03:59:5...\n",
       "dtype: object"
      ]
     },
     "execution_count": 14,
     "metadata": {},
     "output_type": "execute_result"
    }
   ],
   "source": [
    "pks_ds = df['open_time'] + '_' + df['symbol'] + '_' + df['close_time']\n",
    "pks_ds.head()\n",
    "\n",
    "pks_ds.drop_duplicates()"
   ]
  },
  {
   "cell_type": "code",
   "execution_count": null,
   "metadata": {},
   "outputs": [],
   "source": [
    "df = pd.read_sql_table('klines', con=conn)\n",
    "df.head()"
   ]
  }
 ],
 "metadata": {
  "kernelspec": {
   "display_name": ".venv",
   "language": "python",
   "name": "python3"
  },
  "language_info": {
   "codemirror_mode": {
    "name": "ipython",
    "version": 3
   },
   "file_extension": ".py",
   "mimetype": "text/x-python",
   "name": "python",
   "nbconvert_exporter": "python",
   "pygments_lexer": "ipython3",
   "version": "3.9.6"
  },
  "orig_nbformat": 4
 },
 "nbformat": 4,
 "nbformat_minor": 2
}
