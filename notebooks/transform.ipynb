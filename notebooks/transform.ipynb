{
 "cells": [
  {
   "cell_type": "code",
   "execution_count": 3,
   "metadata": {},
   "outputs": [
    {
     "name": "stdout",
     "output_type": "stream",
     "text": [
      "<class 'pandas.core.frame.DataFrame'>\n",
      "RangeIndex: 24 entries, 0 to 23\n",
      "Data columns (total 12 columns):\n",
      " #   Column                        Non-Null Count  Dtype  \n",
      "---  ------                        --------------  -----  \n",
      " 0   open_time                     24 non-null     int64  \n",
      " 1   open_price                    24 non-null     float64\n",
      " 2   high_price                    24 non-null     float64\n",
      " 3   low_price                     24 non-null     float64\n",
      " 4   close_price                   24 non-null     float64\n",
      " 5   volume                        24 non-null     float64\n",
      " 6   close_time                    24 non-null     int64  \n",
      " 7   quote_asset_volume            24 non-null     float64\n",
      " 8   number_of_trades              24 non-null     int64  \n",
      " 9   taker_buy_base_asset_volume   24 non-null     float64\n",
      " 10  taker_buy_quote_asset_volume  24 non-null     float64\n",
      " 11  unused_field                  24 non-null     int64  \n",
      "dtypes: float64(8), int64(4)\n",
      "memory usage: 2.4 KB\n"
     ]
    }
   ],
   "source": [
    "import pandas as pd\n",
    "\n",
    "symbol = 'BTCUSDT'\n",
    "input_path = f'../outputs/{symbol}_raw.csv'\n",
    "\n",
    "df = pd.read_csv(input_path)\n",
    "df.head()\n",
    "df.info()"
   ]
  },
  {
   "cell_type": "code",
   "execution_count": 43,
   "metadata": {},
   "outputs": [],
   "source": [
    "\n",
    "def format_df(df):\n",
    "    new_df = df\n",
    "    float64_columns = df.select_dtypes(include='float64').columns.tolist()\n",
    "    datetime_columns = ['open_time', 'close_time']\n",
    "    new_df[float64_columns] = new_df[float64_columns].round(2)\n",
    "    for colum in datetime_columns:\n",
    "        new_df[colum] = pd.to_datetime(new_df[colum], unit='ms')\n",
    "    return new_df\n",
    "\n",
    "f_df = format_df(df)"
   ]
  },
  {
   "cell_type": "code",
   "execution_count": 66,
   "metadata": {},
   "outputs": [
    {
     "name": "stderr",
     "output_type": "stream",
     "text": [
      "/var/folders/p8/m8wsfv5d4190fjxhmz_xscyc0000gp/T/ipykernel_3916/3550853102.py:3: SettingWithCopyWarning: \n",
      "A value is trying to be set on a copy of a slice from a DataFrame.\n",
      "Try using .loc[row_indexer,col_indexer] = value instead\n",
      "\n",
      "See the caveats in the documentation: https://pandas.pydata.org/pandas-docs/stable/user_guide/indexing.html#returning-a-view-versus-a-copy\n",
      "  df.loc[:, 'symbol'] = symbol\n"
     ]
    }
   ],
   "source": [
    "relevant_columns = ['open_time', 'open_price', 'high_price', 'low_price', 'close_price', 'volume', 'close_time', 'quote_asset_volume', 'number_of_trades'] \n",
    "df = f_df[relevant_columns]\n",
    "df.loc[:, 'symbol'] = symbol"
   ]
  },
  {
   "cell_type": "code",
   "execution_count": 62,
   "metadata": {},
   "outputs": [
    {
     "name": "stderr",
     "output_type": "stream",
     "text": [
      "/var/folders/p8/m8wsfv5d4190fjxhmz_xscyc0000gp/T/ipykernel_3916/1788687526.py:6: SettingWithCopyWarning: \n",
      "A value is trying to be set on a copy of a slice from a DataFrame\n",
      "\n",
      "See the caveats in the documentation: https://pandas.pydata.org/pandas-docs/stable/user_guide/indexing.html#returning-a-view-versus-a-copy\n",
      "  df['open_price'][4] = None\n"
     ]
    }
   ],
   "source": [
    "df.head()\n",
    "df.describe()\n",
    "\n",
    "df.notna().all()\n",
    "\n",
    "df['open_price'][4] = None\n"
   ]
  },
  {
   "cell_type": "code",
   "execution_count": 65,
   "metadata": {},
   "outputs": [
    {
     "data": {
      "text/plain": [
       "open_time              True\n",
       "open_price            False\n",
       "high_price             True\n",
       "low_price              True\n",
       "close_price            True\n",
       "volume                 True\n",
       "close_time             True\n",
       "quote_asset_volume     True\n",
       "number_of_trades       True\n",
       "symbol                 True\n",
       "dtype: bool"
      ]
     },
     "execution_count": 65,
     "metadata": {},
     "output_type": "execute_result"
    }
   ],
   "source": [
    "df.notnull().all()"
   ]
  },
  {
   "cell_type": "code",
   "execution_count": 67,
   "metadata": {},
   "outputs": [],
   "source": [
    "df.to_csv(f'../outputs/{symbol}_transformed.csv', index=False)"
   ]
  }
 ],
 "metadata": {
  "kernelspec": {
   "display_name": ".venv",
   "language": "python",
   "name": "python3"
  },
  "language_info": {
   "codemirror_mode": {
    "name": "ipython",
    "version": 3
   },
   "file_extension": ".py",
   "mimetype": "text/x-python",
   "name": "python",
   "nbconvert_exporter": "python",
   "pygments_lexer": "ipython3",
   "version": "3.9.6"
  },
  "orig_nbformat": 4
 },
 "nbformat": 4,
 "nbformat_minor": 2
}
